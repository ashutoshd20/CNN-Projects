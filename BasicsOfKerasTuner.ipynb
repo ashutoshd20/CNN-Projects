{
 "cells": [
  {
   "cell_type": "code",
   "execution_count": 12,
   "id": "42a1e430",
   "metadata": {
    "scrolled": false
   },
   "outputs": [
    {
     "name": "stdout",
     "output_type": "stream",
     "text": [
      "Collecting keras-tuner\n",
      "  Using cached keras_tuner-1.1.2-py3-none-any.whl (133 kB)\n",
      "Requirement already satisfied: packaging in c:\\users\\ashut\\anaconda3\\envs\\gpu\\lib\\site-packages (from keras-tuner) (21.3)\n",
      "Requirement already satisfied: ipython in c:\\users\\ashut\\anaconda3\\envs\\gpu\\lib\\site-packages (from keras-tuner) (8.3.0)\n",
      "Requirement already satisfied: requests in c:\\users\\ashut\\anaconda3\\envs\\gpu\\lib\\site-packages (from keras-tuner) (2.28.1)\n",
      "Requirement already satisfied: tensorboard in c:\\users\\ashut\\anaconda3\\envs\\gpu\\lib\\site-packages (from keras-tuner) (2.9.1)\n",
      "Collecting kt-legacy\n",
      "  Using cached kt_legacy-1.0.4-py3-none-any.whl (9.6 kB)\n",
      "Requirement already satisfied: numpy in c:\\users\\ashut\\anaconda3\\envs\\gpu\\lib\\site-packages (from keras-tuner) (1.23.0)\n",
      "Requirement already satisfied: pygments>=2.4.0 in c:\\users\\ashut\\anaconda3\\envs\\gpu\\lib\\site-packages (from ipython->keras-tuner) (2.11.2)\n",
      "Requirement already satisfied: prompt-toolkit!=3.0.0,!=3.0.1,<3.1.0,>=2.0.0 in c:\\users\\ashut\\anaconda3\\envs\\gpu\\lib\\site-packages (from ipython->keras-tuner) (3.0.20)\n",
      "Requirement already satisfied: setuptools>=18.5 in c:\\users\\ashut\\anaconda3\\envs\\gpu\\lib\\site-packages (from ipython->keras-tuner) (61.2.0)\n",
      "Requirement already satisfied: jedi>=0.16 in c:\\users\\ashut\\anaconda3\\envs\\gpu\\lib\\site-packages (from ipython->keras-tuner) (0.18.1)\n",
      "Requirement already satisfied: matplotlib-inline in c:\\users\\ashut\\anaconda3\\envs\\gpu\\lib\\site-packages (from ipython->keras-tuner) (0.1.2)\n",
      "Requirement already satisfied: traitlets>=5 in c:\\users\\ashut\\anaconda3\\envs\\gpu\\lib\\site-packages (from ipython->keras-tuner) (5.3.0)\n",
      "Requirement already satisfied: pickleshare in c:\\users\\ashut\\anaconda3\\envs\\gpu\\lib\\site-packages (from ipython->keras-tuner) (0.7.5)\n",
      "Requirement already satisfied: stack-data in c:\\users\\ashut\\anaconda3\\envs\\gpu\\lib\\site-packages (from ipython->keras-tuner) (0.2.0)\n",
      "Requirement already satisfied: decorator in c:\\users\\ashut\\anaconda3\\envs\\gpu\\lib\\site-packages (from ipython->keras-tuner) (5.1.1)\n",
      "Requirement already satisfied: colorama in c:\\users\\ashut\\anaconda3\\envs\\gpu\\lib\\site-packages (from ipython->keras-tuner) (0.4.4)\n",
      "Requirement already satisfied: backcall in c:\\users\\ashut\\anaconda3\\envs\\gpu\\lib\\site-packages (from ipython->keras-tuner) (0.2.0)\n",
      "Requirement already satisfied: parso<0.9.0,>=0.8.0 in c:\\users\\ashut\\anaconda3\\envs\\gpu\\lib\\site-packages (from jedi>=0.16->ipython->keras-tuner) (0.8.3)\n",
      "Requirement already satisfied: wcwidth in c:\\users\\ashut\\anaconda3\\envs\\gpu\\lib\\site-packages (from prompt-toolkit!=3.0.0,!=3.0.1,<3.1.0,>=2.0.0->ipython->keras-tuner) (0.2.5)\n",
      "Requirement already satisfied: pyparsing!=3.0.5,>=2.0.2 in c:\\users\\ashut\\anaconda3\\envs\\gpu\\lib\\site-packages (from packaging->keras-tuner) (3.0.9)\n",
      "Requirement already satisfied: idna<4,>=2.5 in c:\\users\\ashut\\anaconda3\\envs\\gpu\\lib\\site-packages (from requests->keras-tuner) (3.3)\n",
      "Requirement already satisfied: urllib3<1.27,>=1.21.1 in c:\\users\\ashut\\anaconda3\\envs\\gpu\\lib\\site-packages (from requests->keras-tuner) (1.26.9)\n",
      "Requirement already satisfied: certifi>=2017.4.17 in c:\\users\\ashut\\anaconda3\\envs\\gpu\\lib\\site-packages (from requests->keras-tuner) (2022.6.15)\n",
      "Requirement already satisfied: charset-normalizer<3,>=2 in c:\\users\\ashut\\anaconda3\\envs\\gpu\\lib\\site-packages (from requests->keras-tuner) (2.1.0)\n",
      "Requirement already satisfied: asttokens in c:\\users\\ashut\\anaconda3\\envs\\gpu\\lib\\site-packages (from stack-data->ipython->keras-tuner) (2.0.5)\n",
      "Requirement already satisfied: executing in c:\\users\\ashut\\anaconda3\\envs\\gpu\\lib\\site-packages (from stack-data->ipython->keras-tuner) (0.8.3)\n",
      "Requirement already satisfied: pure-eval in c:\\users\\ashut\\anaconda3\\envs\\gpu\\lib\\site-packages (from stack-data->ipython->keras-tuner) (0.2.2)\n",
      "Requirement already satisfied: six in c:\\users\\ashut\\anaconda3\\envs\\gpu\\lib\\site-packages (from asttokens->stack-data->ipython->keras-tuner) (1.16.0)\n",
      "Requirement already satisfied: absl-py>=0.4 in c:\\users\\ashut\\anaconda3\\envs\\gpu\\lib\\site-packages (from tensorboard->keras-tuner) (1.1.0)\n",
      "Requirement already satisfied: markdown>=2.6.8 in c:\\users\\ashut\\anaconda3\\envs\\gpu\\lib\\site-packages (from tensorboard->keras-tuner) (3.3.7)\n",
      "Requirement already satisfied: google-auth<3,>=1.6.3 in c:\\users\\ashut\\anaconda3\\envs\\gpu\\lib\\site-packages (from tensorboard->keras-tuner) (2.9.0)\n",
      "Requirement already satisfied: werkzeug>=1.0.1 in c:\\users\\ashut\\anaconda3\\envs\\gpu\\lib\\site-packages (from tensorboard->keras-tuner) (2.1.2)\n",
      "Requirement already satisfied: tensorboard-data-server<0.7.0,>=0.6.0 in c:\\users\\ashut\\anaconda3\\envs\\gpu\\lib\\site-packages (from tensorboard->keras-tuner) (0.6.1)\n",
      "Requirement already satisfied: grpcio>=1.24.3 in c:\\users\\ashut\\anaconda3\\envs\\gpu\\lib\\site-packages (from tensorboard->keras-tuner) (1.47.0)\n",
      "Requirement already satisfied: protobuf<3.20,>=3.9.2 in c:\\users\\ashut\\anaconda3\\envs\\gpu\\lib\\site-packages (from tensorboard->keras-tuner) (3.19.4)\n",
      "Requirement already satisfied: tensorboard-plugin-wit>=1.6.0 in c:\\users\\ashut\\anaconda3\\envs\\gpu\\lib\\site-packages (from tensorboard->keras-tuner) (1.8.1)\n",
      "Requirement already satisfied: google-auth-oauthlib<0.5,>=0.4.1 in c:\\users\\ashut\\anaconda3\\envs\\gpu\\lib\\site-packages (from tensorboard->keras-tuner) (0.4.6)\n",
      "Requirement already satisfied: wheel>=0.26 in c:\\users\\ashut\\anaconda3\\envs\\gpu\\lib\\site-packages (from tensorboard->keras-tuner) (0.37.1)\n",
      "Requirement already satisfied: pyasn1-modules>=0.2.1 in c:\\users\\ashut\\anaconda3\\envs\\gpu\\lib\\site-packages (from google-auth<3,>=1.6.3->tensorboard->keras-tuner) (0.2.8)\n",
      "Requirement already satisfied: rsa<5,>=3.1.4 in c:\\users\\ashut\\anaconda3\\envs\\gpu\\lib\\site-packages (from google-auth<3,>=1.6.3->tensorboard->keras-tuner) (4.8)\n",
      "Requirement already satisfied: cachetools<6.0,>=2.0.0 in c:\\users\\ashut\\anaconda3\\envs\\gpu\\lib\\site-packages (from google-auth<3,>=1.6.3->tensorboard->keras-tuner) (5.2.0)\n",
      "Requirement already satisfied: requests-oauthlib>=0.7.0 in c:\\users\\ashut\\anaconda3\\envs\\gpu\\lib\\site-packages (from google-auth-oauthlib<0.5,>=0.4.1->tensorboard->keras-tuner) (1.3.1)\n",
      "Requirement already satisfied: importlib-metadata>=4.4 in c:\\users\\ashut\\anaconda3\\envs\\gpu\\lib\\site-packages (from markdown>=2.6.8->tensorboard->keras-tuner) (4.12.0)\n",
      "Requirement already satisfied: zipp>=0.5 in c:\\users\\ashut\\anaconda3\\envs\\gpu\\lib\\site-packages (from importlib-metadata>=4.4->markdown>=2.6.8->tensorboard->keras-tuner) (3.8.0)\n",
      "Requirement already satisfied: pyasn1<0.5.0,>=0.4.6 in c:\\users\\ashut\\anaconda3\\envs\\gpu\\lib\\site-packages (from pyasn1-modules>=0.2.1->google-auth<3,>=1.6.3->tensorboard->keras-tuner) (0.4.8)\n",
      "Requirement already satisfied: oauthlib>=3.0.0 in c:\\users\\ashut\\anaconda3\\envs\\gpu\\lib\\site-packages (from requests-oauthlib>=0.7.0->google-auth-oauthlib<0.5,>=0.4.1->tensorboard->keras-tuner) (3.2.0)\n",
      "Installing collected packages: kt-legacy, keras-tuner\n",
      "Successfully installed keras-tuner-1.1.2 kt-legacy-1.0.4\n"
     ]
    }
   ],
   "source": [
    "!pip install keras-tuner #run only once and then delete "
   ]
  },
  {
   "cell_type": "code",
   "execution_count": 1,
   "id": "81d47649",
   "metadata": {},
   "outputs": [],
   "source": [
    "import tensorflow as tf\n",
    "from tensorflow import keras\n",
    "import numpy as np"
   ]
  },
  {
   "cell_type": "code",
   "execution_count": 2,
   "id": "f3b4bbfd",
   "metadata": {},
   "outputs": [
    {
     "name": "stdout",
     "output_type": "stream",
     "text": [
      "2.9.1\n"
     ]
    }
   ],
   "source": [
    "print(tf.__version__)"
   ]
  },
  {
   "cell_type": "code",
   "execution_count": null,
   "id": "be956b76",
   "metadata": {},
   "outputs": [],
   "source": []
  },
  {
   "cell_type": "code",
   "execution_count": 3,
   "id": "3a8adedb",
   "metadata": {},
   "outputs": [],
   "source": [
    "fashion_mnist=keras.datasets.fashion_mnist"
   ]
  },
  {
   "cell_type": "code",
   "execution_count": 4,
   "id": "2e9dcc2a",
   "metadata": {},
   "outputs": [],
   "source": [
    "(train_images,train_labels),(test_images,test_labels)=fashion_mnist.load_data()"
   ]
  },
  {
   "cell_type": "code",
   "execution_count": 5,
   "id": "e665e695",
   "metadata": {},
   "outputs": [],
   "source": [
    "train_images=train_images/255.0\n",
    "test_images=test_images/255.0"
   ]
  },
  {
   "cell_type": "code",
   "execution_count": 6,
   "id": "42102ab1",
   "metadata": {},
   "outputs": [
    {
     "data": {
      "text/plain": [
       "array([9, 0, 0, ..., 3, 0, 5], dtype=uint8)"
      ]
     },
     "execution_count": 6,
     "metadata": {},
     "output_type": "execute_result"
    }
   ],
   "source": [
    "train_images[0].shape\n",
    "train_labels"
   ]
  },
  {
   "cell_type": "code",
   "execution_count": 7,
   "id": "e8e011bf",
   "metadata": {},
   "outputs": [],
   "source": [
    "train_images=train_images.reshape(len(train_images),28,28,1)\n",
    "test_images=test_images.reshape(len(test_images),28,28,1)"
   ]
  },
  {
   "cell_type": "code",
   "execution_count": 8,
   "id": "a12c8b57",
   "metadata": {},
   "outputs": [],
   "source": [
    "#two types selectors functions: 1. INT  2. Choice\n",
    "def build_model(hp):  \n",
    "  model = keras.Sequential([\n",
    "    keras.layers.Conv2D(\n",
    "        filters=hp.Int('conv_1_filter', min_value=32, max_value=128, step=16),#min value of filter you want\n",
    "        kernel_size=hp.Choice('conv_1_kernel', values = [3,5]),#picks like mcq\n",
    "        activation='relu',\n",
    "        input_shape=(28,28,1)\n",
    "    ),\n",
    "      #for i in range(0,hp.Int(....)) this will also work\n",
    "    keras.layers.Conv2D(\n",
    "        filters=hp.Int('conv_2_filter', min_value=32, max_value=64, step=16),# ihave added this line extra in comparison to the old model\n",
    "        kernel_size=hp.Choice('conv_2_kernel', values = [3,5]),\n",
    "        activation='relu'\n",
    "    ),\n",
    "    keras.layers.Flatten(),\n",
    "    keras.layers.Dense(\n",
    "        units=hp.Int('dense_1_units', min_value=32, max_value=128, step=16),\n",
    "        activation='relu'\n",
    "    ),\n",
    "    keras.layers.Dense(10, activation='softmax')\n",
    "  ])\n",
    "  \n",
    "  model.compile(optimizer=keras.optimizers.Adam(hp.Choice('learning_rate', values=[1e-2, 1e-3])),\n",
    "              loss='sparse_categorical_crossentropy',\n",
    "              metrics=['accuracy'])\n",
    "  \n",
    "  return model"
   ]
  },
  {
   "cell_type": "code",
   "execution_count": 9,
   "id": "0aae7bf2",
   "metadata": {},
   "outputs": [],
   "source": [
    "from keras_tuner import RandomSearch\n",
    "from keras_tuner.engine.hyperparameters import HyperParameters\n",
    "#hyprer/paramter tuning"
   ]
  },
  {
   "cell_type": "code",
   "execution_count": 10,
   "id": "1827beb5",
   "metadata": {},
   "outputs": [
    {
     "name": "stdout",
     "output_type": "stream",
     "text": [
      "INFO:tensorflow:Reloading Oracle from existing project output\\Mnist34569Fashion\\oracle.json\n",
      "INFO:tensorflow:Reloading Tuner from output\\Mnist34569Fashion\\tuner0.json\n"
     ]
    }
   ],
   "source": [
    "tuner_search=RandomSearch(build_model,\n",
    "                          objective='val_accuracy',\n",
    "                          max_trials=5,directory='output',project_name=\"Mnist34569Fashion\")"
   ]
  },
  {
   "cell_type": "code",
   "execution_count": 11,
   "id": "7591e1bc",
   "metadata": {
    "scrolled": true
   },
   "outputs": [
    {
     "name": "stdout",
     "output_type": "stream",
     "text": [
      "INFO:tensorflow:Oracle triggered exit\n"
     ]
    }
   ],
   "source": [
    "tuner_search.search(train_images,train_labels,epochs=3,validation_split=0.1)"
   ]
  },
  {
   "cell_type": "code",
   "execution_count": 12,
   "id": "bb087bcb",
   "metadata": {},
   "outputs": [],
   "source": [
    "model=tuner_search.get_best_models(num_models=1)[0]"
   ]
  },
  {
   "cell_type": "code",
   "execution_count": 13,
   "id": "092e4067",
   "metadata": {},
   "outputs": [
    {
     "name": "stdout",
     "output_type": "stream",
     "text": [
      "Model: \"sequential\"\n",
      "_________________________________________________________________\n",
      " Layer (type)                Output Shape              Param #   \n",
      "=================================================================\n",
      " conv2d (Conv2D)             (None, 26, 26, 48)        480       \n",
      "                                                                 \n",
      " conv2d_1 (Conv2D)           (None, 24, 24, 48)        20784     \n",
      "                                                                 \n",
      " flatten (Flatten)           (None, 27648)             0         \n",
      "                                                                 \n",
      " dense (Dense)               (None, 64)                1769536   \n",
      "                                                                 \n",
      " dense_1 (Dense)             (None, 10)                650       \n",
      "                                                                 \n",
      "=================================================================\n",
      "Total params: 1,791,450\n",
      "Trainable params: 1,791,450\n",
      "Non-trainable params: 0\n",
      "_________________________________________________________________\n"
     ]
    }
   ],
   "source": [
    "model.summary()"
   ]
  },
  {
   "cell_type": "code",
   "execution_count": 14,
   "id": "c032c93f",
   "metadata": {},
   "outputs": [
    {
     "name": "stdout",
     "output_type": "stream",
     "text": [
      "Epoch 4/10\n",
      "1688/1688 [==============================] - 19s 6ms/step - loss: 0.1322 - accuracy: 0.9504 - val_loss: 0.2684 - val_accuracy: 0.9152\n",
      "Epoch 5/10\n",
      "1688/1688 [==============================] - 10s 6ms/step - loss: 0.0974 - accuracy: 0.9635 - val_loss: 0.2867 - val_accuracy: 0.9132\n",
      "Epoch 6/10\n",
      "1688/1688 [==============================] - 10s 6ms/step - loss: 0.0673 - accuracy: 0.9757 - val_loss: 0.3482 - val_accuracy: 0.9097\n",
      "Epoch 7/10\n",
      "1688/1688 [==============================] - 10s 6ms/step - loss: 0.0502 - accuracy: 0.9820 - val_loss: 0.3660 - val_accuracy: 0.9167\n",
      "Epoch 8/10\n",
      "1688/1688 [==============================] - 10s 6ms/step - loss: 0.0375 - accuracy: 0.9867 - val_loss: 0.4335 - val_accuracy: 0.9110\n",
      "Epoch 9/10\n",
      "1688/1688 [==============================] - 10s 6ms/step - loss: 0.0297 - accuracy: 0.9892 - val_loss: 0.4598 - val_accuracy: 0.9092\n",
      "Epoch 10/10\n",
      "1688/1688 [==============================] - 10s 6ms/step - loss: 0.0240 - accuracy: 0.9915 - val_loss: 0.5061 - val_accuracy: 0.9110\n"
     ]
    },
    {
     "data": {
      "text/plain": [
       "<keras.callbacks.History at 0x13320e839a0>"
      ]
     },
     "execution_count": 14,
     "metadata": {},
     "output_type": "execute_result"
    }
   ],
   "source": [
    "model.fit(train_images, train_labels, epochs=10, validation_split=0.1, initial_epoch=3)"
   ]
  },
  {
   "cell_type": "code",
   "execution_count": 22,
   "id": "0e473d18",
   "metadata": {},
   "outputs": [
    {
     "name": "stdout",
     "output_type": "stream",
     "text": [
      "313/313 [==============================] - 1s 3ms/step\n"
     ]
    }
   ],
   "source": [
    "z=model.predict(test_images)"
   ]
  },
  {
   "cell_type": "code",
   "execution_count": 23,
   "id": "c175bfdd",
   "metadata": {},
   "outputs": [],
   "source": [
    "z1=np.argmax(z,axis=1) "
   ]
  },
  {
   "cell_type": "code",
   "execution_count": 24,
   "id": "f323270d",
   "metadata": {},
   "outputs": [
    {
     "name": "stdout",
     "output_type": "stream",
     "text": [
      "[9 2 1 ... 8 1 5]\n"
     ]
    }
   ],
   "source": [
    "print(z1)"
   ]
  },
  {
   "cell_type": "code",
   "execution_count": 25,
   "id": "24277aca",
   "metadata": {},
   "outputs": [
    {
     "data": {
      "text/plain": [
       "array([9, 2, 1, ..., 8, 1, 5], dtype=uint8)"
      ]
     },
     "execution_count": 25,
     "metadata": {},
     "output_type": "execute_result"
    }
   ],
   "source": [
    "test_labels"
   ]
  },
  {
   "cell_type": "code",
   "execution_count": 26,
   "id": "c859af98",
   "metadata": {},
   "outputs": [
    {
     "data": {
      "text/plain": [
       "0.9055"
      ]
     },
     "execution_count": 26,
     "metadata": {},
     "output_type": "execute_result"
    }
   ],
   "source": [
    "from sklearn.metrics import accuracy_score\n",
    "accuracy_score(z1,test_labels)"
   ]
  },
  {
   "cell_type": "code",
   "execution_count": 24,
   "id": "076a39af",
   "metadata": {},
   "outputs": [],
   "source": [
    "from joblib import dump,load"
   ]
  },
  {
   "cell_type": "code",
   "execution_count": 25,
   "id": "461b57be",
   "metadata": {},
   "outputs": [
    {
     "name": "stdout",
     "output_type": "stream",
     "text": [
      "INFO:tensorflow:Assets written to: ram://452e1931-065c-4648-b948-8dfa82197afc/assets\n"
     ]
    },
    {
     "data": {
      "text/plain": [
       "['basic.joblib']"
      ]
     },
     "execution_count": 25,
     "metadata": {},
     "output_type": "execute_result"
    }
   ],
   "source": [
    "dump(model,'basic.joblib')"
   ]
  },
  {
   "cell_type": "code",
   "execution_count": null,
   "id": "67105eff",
   "metadata": {},
   "outputs": [],
   "source": [
    "#create a hypertuned model on flower dataset already sent to you\n",
    "#final week:\n",
    "# 1. read YOLO  material\n",
    "# 2. try to use yolo on your own\n",
    "# 3. read about video to image conversion on youtube(search video to frames and then back on youtube)//i will provide link\n",
    "# on next wednesday our project will be over.\n",
    "# submit all due assignments by then\n",
    "#deadline for this ill be 19th and todays assignment will be 19h for y20s and y19s\n",
    "# for 21s assignments must be submitted before 22nd."
   ]
  }
 ],
 "metadata": {
  "kernelspec": {
   "display_name": "Python 3 (ipykernel)",
   "language": "python",
   "name": "python3"
  },
  "language_info": {
   "codemirror_mode": {
    "name": "ipython",
    "version": 3
   },
   "file_extension": ".py",
   "mimetype": "text/x-python",
   "name": "python",
   "nbconvert_exporter": "python",
   "pygments_lexer": "ipython3",
   "version": "3.9.12"
  }
 },
 "nbformat": 4,
 "nbformat_minor": 5
}
